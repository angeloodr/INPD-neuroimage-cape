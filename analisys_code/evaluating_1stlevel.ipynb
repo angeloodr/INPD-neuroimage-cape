{
 "cells": [
  {
   "cell_type": "code",
   "execution_count": 2,
   "metadata": {},
   "outputs": [],
   "source": [
    "import nibabel as nib\n",
    "from nilearn import plotting, image\n",
    "from bids import BIDSLayout\n",
    "import os\n",
    "import numpy as np"
   ]
  },
  {
   "cell_type": "code",
   "execution_count": 3,
   "metadata": {},
   "outputs": [],
   "source": [
    "rootdir = os.path.dirname(os.path.dirname(os.path.abspath('__file__'))) #sets path to ~\\pilotStudy_INPD_neuroimages\n",
    "os.environ[\"ROOTDIR\"] = rootdir  # seth path\n",
    "\n",
    "#definição do diretório do banco de dados dos mapas de conectividade\n",
    "first_level_results = os.path.join(rootdir,'firstlevel_results')"
   ]
  },
  {
   "cell_type": "code",
   "execution_count": 4,
   "metadata": {},
   "outputs": [
    {
     "name": "stdout",
     "output_type": "stream",
     "text": [
      "Arquivos de mapas de conectividade encontrados: 3996\n"
     ]
    }
   ],
   "source": [
    "# Carregar o layout BIDS\n",
    "layout = BIDSLayout(first_level_results, validate=False)\n",
    "\n",
    "# Listar todos os arquivos de mapas de conectividade\n",
    "nii_files = layout.get(suffix='tstat', session='1',extension='nii.gz', return_type='file')\n",
    "\n",
    "print(f\"Arquivos de mapas de conectividade encontrados: {len(nii_files)}\")\n",
    "# the BIDS package is great at collencting the path for nibabel to analyze"
   ]
  },
  {
   "cell_type": "code",
   "execution_count": 5,
   "metadata": {},
   "outputs": [],
   "source": [
    "# Processar cada arquivo de mapa de conectividade encontrado\n",
    "# this is for evaluating if images have values different form zero, therefore the 1st level analisys worked correctly\n",
    "good_files = [[] for i in range(len(nii_files))]\n",
    "ou = [[] for i in range(len(nii_files))]\n",
    "\n",
    "for i, nii_file in enumerate(nii_files):\n",
    "    # Carregar a imagem NIfTI\n",
    "    img = nib.load(nii_file)\n",
    "    \n",
    "    # Obter os dados da imagem\n",
    "    data = img.get_fdata()\n",
    "\n",
    "    if np.sum(np.isnan(data).flatten())/len(np.isnan(data).flatten())<0.9:\n",
    "        good_files[i] = nii_file\n",
    "\n",
    "    if np.sum(data.flatten())>0:\n",
    "        ou[i] = nii_file\n",
    "\n",
    "    # Exibir informações da imagem\n",
    "    # print(f\"Forma dos dados do arquivo {nii_file}: {data.shape}\")\n",
    "    # print(f\"Affine:\\n{img.affine}\")\n",
    "\n",
    "\n",
    "    # Visualizar o mapa de conectividade\n",
    "    # nilearn_img = image.load_img(nii_file)\n",
    "    # plotting.plot_stat_map(nilearn_img, title=f\"Mapa de Conectividade: {nii_file}\")\n",
    "    # plotting.show()\n"
   ]
  },
  {
   "cell_type": "code",
   "execution_count": 6,
   "metadata": {},
   "outputs": [
    {
     "name": "stdout",
     "output_type": "stream",
     "text": [
      "3996\n",
      "3996\n"
     ]
    }
   ],
   "source": [
    "print(len(good_files))\n",
    "print(len(ou))"
   ]
  },
  {
   "cell_type": "code",
   "execution_count": null,
   "metadata": {},
   "outputs": [],
   "source": []
  }
 ],
 "metadata": {
  "kernelspec": {
   "display_name": "venv_fmri_psi_INPD",
   "language": "python",
   "name": "python3"
  },
  "language_info": {
   "codemirror_mode": {
    "name": "ipython",
    "version": 3
   },
   "file_extension": ".py",
   "mimetype": "text/x-python",
   "name": "python",
   "nbconvert_exporter": "python",
   "pygments_lexer": "ipython3",
   "version": "3.12.7"
  }
 },
 "nbformat": 4,
 "nbformat_minor": 2
}
